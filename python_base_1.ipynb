{
  "nbformat": 4,
  "nbformat_minor": 0,
  "metadata": {
    "colab": {
      "name": "python_base_1.ipynb",
      "version": "0.3.2",
      "provenance": [],
      "toc_visible": true,
      "include_colab_link": true
    },
    "kernelspec": {
      "display_name": "Python 3",
      "language": "python",
      "name": "python3"
    }
  },
  "cells": [
    {
      "cell_type": "markdown",
      "metadata": {
        "id": "view-in-github",
        "colab_type": "text"
      },
      "source": [
        "<a href=\"https://colab.research.google.com/github/omon03/whatnot/blob/master/python_base_1.ipynb\" target=\"_parent\"><img src=\"https://colab.research.google.com/assets/colab-badge.svg\" alt=\"Open In Colab\"/></a>"
      ]
    },
    {
      "metadata": {
        "collapsed": true,
        "id": "a2yLRRBfoW18",
        "colab_type": "text"
      },
      "cell_type": "markdown",
      "source": [
        "# Основы python\n",
        "- Много библиотек\n",
        "- Быстрая разработка, не надо следить за памятью\n",
        "- Кроссплатформенность\n",
        "- Качество ПО из-за самого языка\n",
        "- ООП, мощный\n",
        "- Свободный\n",
        "- Активно развивается\n",
        "- Красивый, минималистичный синтаксис\n",
        "- Скриптовый язык программирования, интерпретируемый а не компилируемый. Нужен интерпретатор для выполнения кода.      Но текст не компилируется, а транслируется в байт-код для интерпретатора. Это не машинный код.\n",
        "- Медленный. Есть cython. Библиотеки оптимизированы и алгоритмы написаны на С++\n",
        "- Без строгой типизации"
      ]
    },
    {
      "metadata": {
        "id": "Drul2j2ZoW2B",
        "colab_type": "text"
      },
      "cell_type": "markdown",
      "source": [
        "## Импорты"
      ]
    },
    {
      "metadata": {
        "id": "6VxS-P9LoW2F",
        "colab_type": "code",
        "colab": {}
      },
      "cell_type": "code",
      "source": [
        "import random"
      ],
      "execution_count": 0,
      "outputs": []
    },
    {
      "metadata": {
        "id": "iIzSlp87oW2S",
        "colab_type": "code",
        "outputId": "7a43ae69-31ef-4be4-fa27-ba98ed0f2578",
        "colab": {
          "base_uri": "https://localhost:8080/",
          "height": 36
        }
      },
      "cell_type": "code",
      "source": [
        "print (random.randint(0,10))"
      ],
      "execution_count": 0,
      "outputs": [
        {
          "output_type": "stream",
          "text": [
            "3\n"
          ],
          "name": "stdout"
        }
      ]
    },
    {
      "metadata": {
        "id": "lafYi_1XoW2Z",
        "colab_type": "code",
        "colab": {}
      },
      "cell_type": "code",
      "source": [
        "?random.randint"
      ],
      "execution_count": 0,
      "outputs": []
    },
    {
      "metadata": {
        "id": "R0A4GoTSoW2i",
        "colab_type": "code",
        "colab": {}
      },
      "cell_type": "code",
      "source": [
        "help(random)"
      ],
      "execution_count": 0,
      "outputs": []
    },
    {
      "metadata": {
        "id": "yWE7vOP0oW2p",
        "colab_type": "text"
      },
      "cell_type": "markdown",
      "source": [
        "## Типы данных. Все - объекты\n",
        "- Числа\n",
        "- Строки\n",
        "- Списки\n",
        "- Словари\n",
        "- Кортежи\n",
        "- Множества\n",
        "- Файлы\n",
        "- Прочие базовые типы: Сами типы, None, логические значения\n",
        "- Типы структурных элементов программ: Функции, модули, классы "
      ]
    },
    {
      "metadata": {
        "id": "IzMLGDLkoW2r",
        "colab_type": "code",
        "colab": {}
      },
      "cell_type": "code",
      "source": [
        "string = 'test string;'\n",
        "String=\"test big String;\"\n",
        "print(string)\n",
        "print(String)"
      ],
      "execution_count": 0,
      "outputs": []
    },
    {
      "metadata": {
        "id": "FcSwbKfCoW2w",
        "colab_type": "code",
        "colab": {}
      },
      "cell_type": "code",
      "source": [
        "# зарезервированные слова\n",
        "# False class finally is return\n",
        "# None continue for lambda try\n",
        "# True def from nonlocal while\n",
        "# and del global not with\n",
        "# as elif if or yield\n",
        "# assert else import pass\n",
        "# break except in raise"
      ],
      "execution_count": 0,
      "outputs": []
    },
    {
      "metadata": {
        "id": "EafikpJ0oW26",
        "colab_type": "code",
        "colab": {}
      },
      "cell_type": "code",
      "source": [
        "res1=23\n",
        "1res=32"
      ],
      "execution_count": 0,
      "outputs": []
    },
    {
      "metadata": {
        "id": "SwBdkEsLoW3D",
        "colab_type": "code",
        "colab": {}
      },
      "cell_type": "code",
      "source": [
        "number1 = 3\n",
        "number2 = 4.34\n",
        "res = number1+number2\n",
        "print (res)"
      ],
      "execution_count": 0,
      "outputs": []
    },
    {
      "metadata": {
        "id": "S2Yei3dGoW3K",
        "colab_type": "code",
        "colab": {}
      },
      "cell_type": "code",
      "source": [
        "type(res)\n",
        "isinstance(res, float)"
      ],
      "execution_count": 0,
      "outputs": []
    },
    {
      "metadata": {
        "id": "l5RyX9PZoW3T",
        "colab_type": "code",
        "colab": {}
      },
      "cell_type": "code",
      "source": [
        "numberInt = 3\n",
        "numberFloat = 3.43\n",
        "numberComplex = 3+4j\n",
        "print(numberComplex*numberComplex)"
      ],
      "execution_count": 0,
      "outputs": []
    },
    {
      "metadata": {
        "id": "3xZ7B2v3oW3X",
        "colab_type": "code",
        "colab": {}
      },
      "cell_type": "code",
      "source": [
        "print(number1+string)"
      ],
      "execution_count": 0,
      "outputs": []
    },
    {
      "metadata": {
        "id": "T21kIGM1oW3e",
        "colab_type": "code",
        "colab": {}
      },
      "cell_type": "code",
      "source": [
        "print(number1*string)"
      ],
      "execution_count": 0,
      "outputs": []
    },
    {
      "metadata": {
        "id": "85gITnXBoW3k",
        "colab_type": "code",
        "colab": {}
      },
      "cell_type": "code",
      "source": [
        "stringNumber = '5.43'"
      ],
      "execution_count": 0,
      "outputs": []
    },
    {
      "metadata": {
        "id": "68lk5xvooW3q",
        "colab_type": "code",
        "colab": {}
      },
      "cell_type": "code",
      "source": [
        "res = stringNumber+number1\n",
        "print(res)"
      ],
      "execution_count": 0,
      "outputs": []
    },
    {
      "metadata": {
        "id": "qLrwzsZBoW3u",
        "colab_type": "code",
        "colab": {}
      },
      "cell_type": "code",
      "source": [
        "res = float(stringNumber)+number1\n",
        "print(res)"
      ],
      "execution_count": 0,
      "outputs": []
    },
    {
      "metadata": {
        "id": "-L3ENIcHoW3x",
        "colab_type": "code",
        "colab": {}
      },
      "cell_type": "code",
      "source": [
        "numStr = str(number2)\n",
        "print(numStr)\n",
        "type(numStr)"
      ],
      "execution_count": 0,
      "outputs": []
    },
    {
      "metadata": {
        "id": "bNE57kxGoW38",
        "colab_type": "code",
        "colab": {}
      },
      "cell_type": "code",
      "source": [
        "x = 'house'\n",
        "print(x)\n",
        "x = 3.43\n",
        "print(x)"
      ],
      "execution_count": 0,
      "outputs": []
    },
    {
      "metadata": {
        "id": "HFSNyD5loW4C",
        "colab_type": "text"
      },
      "cell_type": "markdown",
      "source": [
        "## Строки"
      ]
    },
    {
      "metadata": {
        "id": "gDiYwKWIoW4E",
        "colab_type": "code",
        "colab": {}
      },
      "cell_type": "code",
      "source": [
        "string = \"Hello, world!\\n I am python string.\"\n",
        "print(string)"
      ],
      "execution_count": 0,
      "outputs": []
    },
    {
      "metadata": {
        "id": "1QmRoE8NoW4K",
        "colab_type": "code",
        "colab": {}
      },
      "cell_type": "code",
      "source": [
        "stringSplit = string.split('\\n')\n",
        "print(string)"
      ],
      "execution_count": 0,
      "outputs": []
    },
    {
      "metadata": {
        "id": "ySH4-sVzoW4P",
        "colab_type": "code",
        "colab": {}
      },
      "cell_type": "code",
      "source": [
        "sumStr = stringSplit[0]+stringSplit[1]\n",
        "print(sumStr)\n",
        "print(len(sumStr))"
      ],
      "execution_count": 0,
      "outputs": []
    },
    {
      "metadata": {
        "id": "5xCJ0InZoW4Z",
        "colab_type": "code",
        "colab": {}
      },
      "cell_type": "code",
      "source": [
        "letter = sumStr[4]\n",
        "print(letter)\n",
        "sumStr[1]='b'"
      ],
      "execution_count": 0,
      "outputs": []
    },
    {
      "metadata": {
        "id": "sxOKKJqioW4i",
        "colab_type": "code",
        "colab": {}
      },
      "cell_type": "code",
      "source": [
        "string = string.replace('.','!')\n",
        "print(string)"
      ],
      "execution_count": 0,
      "outputs": []
    },
    {
      "metadata": {
        "id": "DuQtzyofoW4n",
        "colab_type": "code",
        "colab": {}
      },
      "cell_type": "code",
      "source": [
        "print(sumStr[4]=='a')\n",
        "print(sumStr[4]=='o')"
      ],
      "execution_count": 0,
      "outputs": []
    },
    {
      "metadata": {
        "id": "NJFVQz6UoW4r",
        "colab_type": "code",
        "colab": {}
      },
      "cell_type": "code",
      "source": [
        "sumStr.find('o')"
      ],
      "execution_count": 0,
      "outputs": []
    },
    {
      "metadata": {
        "id": "YQLq5akpoW4z",
        "colab_type": "text"
      },
      "cell_type": "markdown",
      "source": [
        "## Коллекции"
      ]
    },
    {
      "metadata": {
        "id": "BtvMyMUYoW40",
        "colab_type": "code",
        "colab": {}
      },
      "cell_type": "code",
      "source": [
        "arr = [1,2,3,4,5]\n",
        "tup = (1,2,3,4,5)\n",
        "dic = {1:\"one\", 2:'two', 3:'three', 4:\"four\", 5:\"five\"}\n",
        "set_ = {5,3,2,4,1}\n",
        "print (set_)"
      ],
      "execution_count": 0,
      "outputs": []
    },
    {
      "metadata": {
        "id": "0oFGh7osoW46",
        "colab_type": "code",
        "colab": {}
      },
      "cell_type": "code",
      "source": [
        "arr[4]=-1\n",
        "arr[0:3]=tup[2:5]\n",
        "print(arr)"
      ],
      "execution_count": 0,
      "outputs": []
    },
    {
      "metadata": {
        "id": "31U3Y0NjoW49",
        "colab_type": "code",
        "colab": {}
      },
      "cell_type": "code",
      "source": [
        "arr[4] = 'five'\n",
        "print(arr)"
      ],
      "execution_count": 0,
      "outputs": []
    },
    {
      "metadata": {
        "id": "c7G_fYwnoW5C",
        "colab_type": "code",
        "colab": {}
      },
      "cell_type": "code",
      "source": [
        "arr[0] = tup\n",
        "print(arr)\n",
        "print(arr[0][1])"
      ],
      "execution_count": 0,
      "outputs": []
    },
    {
      "metadata": {
        "id": "J3FLOmxSoW5G",
        "colab_type": "code",
        "colab": {}
      },
      "cell_type": "code",
      "source": [
        "arr = [5,4,3,2,1]\n",
        "print(arr)\n",
        "arr.append(10)\n",
        "print(arr)\n",
        "arr.remove(3)\n",
        "print(arr)\n",
        "arr.pop(1)\n",
        "print(arr)\n",
        "arr.reverse()\n",
        "print(arr)\n",
        "arr.sort()\n",
        "print(arr)"
      ],
      "execution_count": 0,
      "outputs": []
    },
    {
      "metadata": {
        "id": "69SXDx2VoW5K",
        "colab_type": "code",
        "colab": {}
      },
      "cell_type": "code",
      "source": [
        "d = dic[1]\n",
        "print(d)"
      ],
      "execution_count": 0,
      "outputs": []
    },
    {
      "metadata": {
        "id": "SQADjl7noW5O",
        "colab_type": "code",
        "colab": {}
      },
      "cell_type": "code",
      "source": [
        "d = dic[0]"
      ],
      "execution_count": 0,
      "outputs": []
    },
    {
      "metadata": {
        "id": "JBI4LWQuoW5Q",
        "colab_type": "code",
        "colab": {}
      },
      "cell_type": "code",
      "source": [
        "print(dic)\n",
        "dic['key']='value'\n",
        "print(dic)"
      ],
      "execution_count": 0,
      "outputs": []
    },
    {
      "metadata": {
        "id": "m4ooiEpQoW5S",
        "colab_type": "code",
        "colab": {}
      },
      "cell_type": "code",
      "source": [
        "print('key' in dic)\n",
        "print('key2' in dic)"
      ],
      "execution_count": 0,
      "outputs": []
    },
    {
      "metadata": {
        "id": "PcUvHDVooW5V",
        "colab_type": "code",
        "colab": {}
      },
      "cell_type": "code",
      "source": [
        "dic['key']"
      ],
      "execution_count": 0,
      "outputs": []
    },
    {
      "metadata": {
        "id": "DAU8Sc6RoW5a",
        "colab_type": "code",
        "colab": {}
      },
      "cell_type": "code",
      "source": [
        "print(list(dic))"
      ],
      "execution_count": 0,
      "outputs": []
    },
    {
      "metadata": {
        "id": "lZbL8A1roW5d",
        "colab_type": "code",
        "colab": {}
      },
      "cell_type": "code",
      "source": [
        "arr = ['zero', 'one','two','three','four']\n",
        "print(arr[2])"
      ],
      "execution_count": 0,
      "outputs": []
    },
    {
      "metadata": {
        "id": "IE9Gql2foW5i",
        "colab_type": "code",
        "colab": {}
      },
      "cell_type": "code",
      "source": [
        "print(arr[2:4])"
      ],
      "execution_count": 0,
      "outputs": []
    },
    {
      "metadata": {
        "id": "LvSfPqNyoW5l",
        "colab_type": "code",
        "colab": {}
      },
      "cell_type": "code",
      "source": [
        "print(arr[:2])"
      ],
      "execution_count": 0,
      "outputs": []
    },
    {
      "metadata": {
        "id": "J7yawBuJoW5v",
        "colab_type": "code",
        "colab": {}
      },
      "cell_type": "code",
      "source": [
        "print(arr[2:])"
      ],
      "execution_count": 0,
      "outputs": []
    },
    {
      "metadata": {
        "id": "G1TRKPuAoW5y",
        "colab_type": "code",
        "colab": {}
      },
      "cell_type": "code",
      "source": [
        "print(arr[:])"
      ],
      "execution_count": 0,
      "outputs": []
    },
    {
      "metadata": {
        "id": "J-k7VqFzoW51",
        "colab_type": "code",
        "colab": {}
      },
      "cell_type": "code",
      "source": [
        "print(arr[1:-2])"
      ],
      "execution_count": 0,
      "outputs": []
    },
    {
      "metadata": {
        "id": "WYyABpOyoW54",
        "colab_type": "code",
        "colab": {}
      },
      "cell_type": "code",
      "source": [
        "print(arr[1:4:2])"
      ],
      "execution_count": 0,
      "outputs": []
    },
    {
      "metadata": {
        "id": "17b5mg17oW57",
        "colab_type": "code",
        "colab": {}
      },
      "cell_type": "code",
      "source": [
        "set1 = {'one', 'two', 'three', 4, 5}\n",
        "set2 = {'three', 'four', 5, 6}\n",
        "print ('three' in set1) \n",
        "print (set1.intersection(set2))"
      ],
      "execution_count": 0,
      "outputs": []
    },
    {
      "metadata": {
        "id": "8KxzjS9boW5_",
        "colab_type": "text"
      },
      "cell_type": "markdown",
      "source": [
        "https://wiki.python.org/moin/TimeComplexity"
      ]
    },
    {
      "metadata": {
        "id": "5jqyYs0xoW6A",
        "colab_type": "text"
      },
      "cell_type": "markdown",
      "source": [
        "## Преобразвание типов"
      ]
    },
    {
      "metadata": {
        "id": "-KjYP7eWoW6B",
        "colab_type": "code",
        "colab": {}
      },
      "cell_type": "code",
      "source": [
        "print(str(1.53))"
      ],
      "execution_count": 0,
      "outputs": []
    },
    {
      "metadata": {
        "id": "7jfwe3SAoW6C",
        "colab_type": "code",
        "colab": {}
      },
      "cell_type": "code",
      "source": [
        "print(int(1.53))"
      ],
      "execution_count": 0,
      "outputs": []
    },
    {
      "metadata": {
        "id": "JQsh0t8RoW6G",
        "colab_type": "code",
        "colab": {}
      },
      "cell_type": "code",
      "source": [
        "print(round(1.53))"
      ],
      "execution_count": 0,
      "outputs": []
    },
    {
      "metadata": {
        "id": "NYgc599BoW6I",
        "colab_type": "code",
        "colab": {}
      },
      "cell_type": "code",
      "source": [
        "print(float(1))"
      ],
      "execution_count": 0,
      "outputs": []
    },
    {
      "metadata": {
        "id": "pike1GD0oW6W",
        "colab_type": "code",
        "colab": {}
      },
      "cell_type": "code",
      "source": [
        "print(float('1.53'))"
      ],
      "execution_count": 0,
      "outputs": []
    },
    {
      "metadata": {
        "id": "QgTyPIufoW6Z",
        "colab_type": "code",
        "colab": {}
      },
      "cell_type": "code",
      "source": [
        "print(int('1.53'))"
      ],
      "execution_count": 0,
      "outputs": []
    },
    {
      "metadata": {
        "id": "Y-zydMKFoW6g",
        "colab_type": "code",
        "colab": {}
      },
      "cell_type": "code",
      "source": [
        "arr = [1,2,3,4,5] \n",
        "print(arr)\n",
        "print(tuple(arr))"
      ],
      "execution_count": 0,
      "outputs": []
    },
    {
      "metadata": {
        "id": "avCprOU9oW6j",
        "colab_type": "code",
        "colab": {}
      },
      "cell_type": "code",
      "source": [
        "print(set(arr))"
      ],
      "execution_count": 0,
      "outputs": []
    },
    {
      "metadata": {
        "id": "4aFxS_ffoW6l",
        "colab_type": "code",
        "colab": {}
      },
      "cell_type": "code",
      "source": [
        "print(dict.fromkeys(arr))"
      ],
      "execution_count": 0,
      "outputs": []
    },
    {
      "metadata": {
        "id": "jPAaOvT_oW6p",
        "colab_type": "code",
        "colab": {}
      },
      "cell_type": "code",
      "source": [
        "print(dict(enumerate(arr)))"
      ],
      "execution_count": 0,
      "outputs": []
    },
    {
      "metadata": {
        "id": "Cw3N6uNJoW6r",
        "colab_type": "code",
        "colab": {}
      },
      "cell_type": "code",
      "source": [
        "dic = {1:\"one\", 2:'two', 3:'three', 4:\"four\", 5:\"five\"}\n",
        "print(list(dic))"
      ],
      "execution_count": 0,
      "outputs": []
    },
    {
      "metadata": {
        "id": "7ggje56eoW6v",
        "colab_type": "code",
        "colab": {}
      },
      "cell_type": "code",
      "source": [
        "set_ = {5,3,2,4,1}\n",
        "print(list(set_))"
      ],
      "execution_count": 0,
      "outputs": []
    },
    {
      "metadata": {
        "id": "XtFsXvNBoW62",
        "colab_type": "code",
        "colab": {}
      },
      "cell_type": "code",
      "source": [
        "letterArray = list(dic[2])\n",
        "print(letterArray)"
      ],
      "execution_count": 0,
      "outputs": []
    },
    {
      "metadata": {
        "id": "BqCQdjJUoW7A",
        "colab_type": "code",
        "colab": {}
      },
      "cell_type": "code",
      "source": [
        "print(''.join(['t', 'w', 'o']))"
      ],
      "execution_count": 0,
      "outputs": []
    },
    {
      "metadata": {
        "id": "7IQO2JFBoW7F",
        "colab_type": "code",
        "colab": {}
      },
      "cell_type": "code",
      "source": [
        "array2d= [[10,20], [30,40], ['key',50]]\n",
        "print(dict(array2d))"
      ],
      "execution_count": 0,
      "outputs": []
    },
    {
      "metadata": {
        "id": "fnS7VmXyoW7H",
        "colab_type": "text"
      },
      "cell_type": "markdown",
      "source": [
        "## Каждая переменная - это ссылка"
      ]
    },
    {
      "metadata": {
        "id": "1sJeWd4DoW7K",
        "colab_type": "code",
        "outputId": "35aec680-8890-4861-b703-9641a99dc601",
        "colab": {
          "base_uri": "https://localhost:8080/",
          "height": 36
        }
      },
      "cell_type": "code",
      "source": [
        "x = 1\n",
        "y = x\n",
        "y = 2\n",
        "print(x)"
      ],
      "execution_count": 0,
      "outputs": [
        {
          "output_type": "stream",
          "text": [
            "1\n"
          ],
          "name": "stdout"
        }
      ]
    },
    {
      "metadata": {
        "id": "4Dl6dE77oW7M",
        "colab_type": "code",
        "colab": {}
      },
      "cell_type": "code",
      "source": [
        "x = [1,1,1]\n",
        "y = x\n",
        "y[0] = 0\n",
        "print(x)"
      ],
      "execution_count": 0,
      "outputs": []
    },
    {
      "metadata": {
        "id": "k1zzv9AdoW7S",
        "colab_type": "code",
        "colab": {}
      },
      "cell_type": "code",
      "source": [
        "x = [1,1,1]\n",
        "y = x[:]\n",
        "y[0] = 0\n",
        "print(x)"
      ],
      "execution_count": 0,
      "outputs": []
    },
    {
      "metadata": {
        "id": "okAtLwbWoW7U",
        "colab_type": "code",
        "colab": {}
      },
      "cell_type": "code",
      "source": [
        "ones = [1,1,1]\n",
        "dic = {\"one\": ones}\n",
        "print(dic)\n",
        "ones.append(0)\n",
        "print(dic)"
      ],
      "execution_count": 0,
      "outputs": []
    },
    {
      "metadata": {
        "id": "p2-W0QSVoW7X",
        "colab_type": "code",
        "colab": {}
      },
      "cell_type": "code",
      "source": [
        "ones = [1,1,1]\n",
        "dic = {\"one\": ones}\n",
        "print(dic)\n",
        "ones = [0,0,0]\n",
        "print(dic)"
      ],
      "execution_count": 0,
      "outputs": []
    },
    {
      "metadata": {
        "id": "O9QnsB8OoW7b",
        "colab_type": "code",
        "colab": {}
      },
      "cell_type": "code",
      "source": [
        "dic1 = {\"one\": 1, \"two\": 2}\n",
        "dic2 = dic1.copy()\n",
        "dic2[\"one\"] = 0\n",
        "print(dic1)\n",
        "print(dic2)"
      ],
      "execution_count": 0,
      "outputs": []
    },
    {
      "metadata": {
        "id": "zNmYEFa2oW7d",
        "colab_type": "code",
        "colab": {}
      },
      "cell_type": "code",
      "source": [
        "ones = [1,1,1]\n",
        "dic1 = {\"one\": ones}\n",
        "dic2 = dic1.copy()\n",
        "ones.append(0)\n",
        "print(dic1)\n",
        "print(dic2)"
      ],
      "execution_count": 0,
      "outputs": []
    },
    {
      "metadata": {
        "id": "NUZybpkloW7e",
        "colab_type": "code",
        "colab": {}
      },
      "cell_type": "code",
      "source": [
        "from copy import deepcopy\n",
        "ones = [1,1,1]\n",
        "dic1 = {\"one\": ones}\n",
        "dic2 = deepcopy(dic1)\n",
        "ones.append(0)\n",
        "print(dic1)\n",
        "print(dic2)"
      ],
      "execution_count": 0,
      "outputs": []
    },
    {
      "metadata": {
        "id": "bEQwEiufoW7g",
        "colab_type": "text"
      },
      "cell_type": "markdown",
      "source": [
        "### Неизменяемые типы:\n",
        " - числовые данные (int, float, complex)\n",
        " - строки (class 'str')\n",
        " - кортежи (tuple)\n",
        "### Изменяемые типы:\n",
        " - списки (list)\n",
        " - множества (set)\n",
        " - словари (dict)\n",
        " - другие типы"
      ]
    },
    {
      "metadata": {
        "id": "K-B9uE5koW7h",
        "colab_type": "text"
      },
      "cell_type": "markdown",
      "source": [
        "## Циклы"
      ]
    },
    {
      "metadata": {
        "id": "fajTv_msoW7i",
        "colab_type": "code",
        "colab": {}
      },
      "cell_type": "code",
      "source": [
        "arr = [1,2,3,4,5]\n",
        "for i in range(0,len(arr)):\n",
        "    arr[i] = arr[i]+1\n",
        "print(arr)"
      ],
      "execution_count": 0,
      "outputs": []
    },
    {
      "metadata": {
        "id": "gAHqRhDUoW7u",
        "colab_type": "code",
        "colab": {}
      },
      "cell_type": "code",
      "source": [
        "arr = [[1,2,3,4,5], [10,20,30,40,50], [100,200,300,400,500,600]]\n",
        "for i in range(len(arr)):\n",
        "    for j in range(len(arr[i])):\n",
        "        arr[i][j] +=1\n",
        "print(arr)"
      ],
      "execution_count": 0,
      "outputs": []
    },
    {
      "metadata": {
        "id": "sHA1ak6WoW75",
        "colab_type": "code",
        "colab": {}
      },
      "cell_type": "code",
      "source": [
        "for a1 in arr:\n",
        "    print(a1)\n",
        "    for a2 in a1:\n",
        "        print(a2)"
      ],
      "execution_count": 0,
      "outputs": []
    },
    {
      "metadata": {
        "id": "JJZC3WxXoW7-",
        "colab_type": "code",
        "colab": {}
      },
      "cell_type": "code",
      "source": [
        "arr = ['zero', 'one','two','three','four']\n",
        "d = {}\n",
        "for a in arr:\n",
        "    d[a]=random.randint(0,10)\n",
        "print(d)"
      ],
      "execution_count": 0,
      "outputs": []
    },
    {
      "metadata": {
        "id": "3l8SJw4koW8D",
        "colab_type": "code",
        "colab": {}
      },
      "cell_type": "code",
      "source": [
        "k=0\n",
        "while k<10:\n",
        "    print(k)\n",
        "    k+=1"
      ],
      "execution_count": 0,
      "outputs": []
    },
    {
      "metadata": {
        "id": "FwCfm47doW8E",
        "colab_type": "code",
        "colab": {}
      },
      "cell_type": "code",
      "source": [
        "for id, item in enumerate(arr):\n",
        "    print(id)\n",
        "    print(item)"
      ],
      "execution_count": 0,
      "outputs": []
    },
    {
      "metadata": {
        "id": "x-ukzNtBoW8G",
        "colab_type": "text"
      },
      "cell_type": "markdown",
      "source": [
        "## Условный оператор"
      ]
    },
    {
      "metadata": {
        "collapsed": true,
        "id": "PahghBJuoW8G",
        "colab_type": "code",
        "colab": {}
      },
      "cell_type": "code",
      "source": [
        "a  = False\n",
        "if a:\n",
        "    print(\"inside\")"
      ],
      "execution_count": 0,
      "outputs": []
    },
    {
      "metadata": {
        "id": "oo3r_yi4oW8c",
        "colab_type": "code",
        "colab": {}
      },
      "cell_type": "code",
      "source": [
        "a = random.randint(1,10)\n",
        "print(a)\n",
        "if a>5:\n",
        "    print(\"big\")\n",
        "else:\n",
        "    print(\"small\")"
      ],
      "execution_count": 0,
      "outputs": []
    },
    {
      "metadata": {
        "id": "omRxeoJIoW8f",
        "colab_type": "code",
        "colab": {}
      },
      "cell_type": "code",
      "source": [
        "a = random.randint(1,10)\n",
        "print(a)\n",
        "if a<2:\n",
        "    print(\"small\")\n",
        "elif a>=2 and a<6:\n",
        "    print(\"middle\")\n",
        "else:\n",
        "    print(\"big\")\n",
        "    "
      ],
      "execution_count": 0,
      "outputs": []
    },
    {
      "metadata": {
        "id": "UjQFD9xjoW8h",
        "colab_type": "code",
        "colab": {}
      },
      "cell_type": "code",
      "source": [
        "for i in range(0,20):\n",
        "    a = random.randint(1,10)\n",
        "    print(a)\n",
        "    if a<2:\n",
        "        print(\"small\")\n",
        "    elif a>=2 and a<6:\n",
        "        print(\"middle\")\n",
        "    else:\n",
        "        print(\"big\")"
      ],
      "execution_count": 0,
      "outputs": []
    },
    {
      "metadata": {
        "id": "AbvLwsVBoW8j",
        "colab_type": "code",
        "colab": {}
      },
      "cell_type": "code",
      "source": [
        "while True:\n",
        "    a = random.randint(1,10)\n",
        "    print(a)\n",
        "    if a<2:\n",
        "        print(\"small\")\n",
        "        break\n",
        "    elif a>=2 and a<6:\n",
        "        print(\"middle\")\n",
        "    else:\n",
        "        print(\"big\")        "
      ],
      "execution_count": 0,
      "outputs": []
    },
    {
      "metadata": {
        "id": "W-1yP0NMoW8n",
        "colab_type": "code",
        "colab": {}
      },
      "cell_type": "code",
      "source": [
        "while True:\n",
        "    a = random.randint(1,10)\n",
        "    print(a)\n",
        "    if a<2:\n",
        "        print(\"small\")\n",
        "        break\n",
        "    elif a>=2 and a<6:        \n",
        "        print(\"before continue\")\n",
        "        continue\n",
        "        print(\"middle\")\n",
        "    else:\n",
        "        print(\"big\")  "
      ],
      "execution_count": 0,
      "outputs": []
    },
    {
      "metadata": {
        "id": "RBk_Gm85oW8s",
        "colab_type": "code",
        "colab": {}
      },
      "cell_type": "code",
      "source": [
        "a=3.21\n",
        "if a==3.2100:\n",
        "    print ('equal')"
      ],
      "execution_count": 0,
      "outputs": []
    },
    {
      "metadata": {
        "id": "tAajfBTWoW8t",
        "colab_type": "code",
        "colab": {}
      },
      "cell_type": "code",
      "source": [
        "a=3.21\n",
        "if a!=4.2:\n",
        "    print ('not equal')"
      ],
      "execution_count": 0,
      "outputs": []
    },
    {
      "metadata": {
        "id": "W7wU_fxgoW8x",
        "colab_type": "code",
        "colab": {}
      },
      "cell_type": "code",
      "source": [
        "a=3.21\n",
        "if a!='3.21':\n",
        "    print ('not equal')"
      ],
      "execution_count": 0,
      "outputs": []
    },
    {
      "metadata": {
        "id": "mPT4mZhFoW8y",
        "colab_type": "code",
        "colab": {}
      },
      "cell_type": "code",
      "source": [
        "a = False\n",
        "if not a:\n",
        "    print (\"inside\")\n",
        "    "
      ],
      "execution_count": 0,
      "outputs": []
    },
    {
      "metadata": {
        "id": "EGZ9RQ3joW80",
        "colab_type": "code",
        "colab": {}
      },
      "cell_type": "code",
      "source": [
        "a = False\n",
        "b = 1\n",
        "c = 100\n",
        "if a or b:\n",
        "    print ('a or b true')"
      ],
      "execution_count": 0,
      "outputs": []
    },
    {
      "metadata": {
        "id": "sgQCC6rcoW81",
        "colab_type": "code",
        "colab": {}
      },
      "cell_type": "code",
      "source": [
        "if a or c:\n",
        "    print ('a or c true')"
      ],
      "execution_count": 0,
      "outputs": []
    },
    {
      "metadata": {
        "id": "4aoftMcwoW83",
        "colab_type": "code",
        "colab": {}
      },
      "cell_type": "code",
      "source": [
        "if a | c:\n",
        "    print ('a|c true')"
      ],
      "execution_count": 0,
      "outputs": []
    },
    {
      "metadata": {
        "collapsed": true,
        "id": "zkxBI_laoW85",
        "colab_type": "code",
        "colab": {}
      },
      "cell_type": "code",
      "source": [
        "if a and b and c:\n",
        "    print ('a and b and c true')"
      ],
      "execution_count": 0,
      "outputs": []
    },
    {
      "metadata": {
        "id": "_ymbr-96oW86",
        "colab_type": "text"
      },
      "cell_type": "markdown",
      "source": [
        "## Функции"
      ]
    },
    {
      "metadata": {
        "collapsed": true,
        "id": "klflKfkLoW86",
        "colab_type": "code",
        "colab": {}
      },
      "cell_type": "code",
      "source": [
        "import math\n",
        "\n",
        "def sigmoid(x):\n",
        "    y = 1/(1+math.exp(-x))\n",
        "    return y"
      ],
      "execution_count": 0,
      "outputs": []
    },
    {
      "metadata": {
        "id": "BOxYzHFvoW89",
        "colab_type": "code",
        "colab": {}
      },
      "cell_type": "code",
      "source": [
        "res = sigmoid(6)\n",
        "print(res)"
      ],
      "execution_count": 0,
      "outputs": []
    },
    {
      "metadata": {
        "id": "6sCjnZsjoW8-",
        "colab_type": "code",
        "colab": {}
      },
      "cell_type": "code",
      "source": [
        "print(type(sigmoid))"
      ],
      "execution_count": 0,
      "outputs": []
    },
    {
      "metadata": {
        "id": "VLPuckXkoW8_",
        "colab_type": "code",
        "colab": {}
      },
      "cell_type": "code",
      "source": [
        "res = sigmoid(x=6)\n",
        "print(res)"
      ],
      "execution_count": 0,
      "outputs": []
    },
    {
      "metadata": {
        "id": "m859B18NoW9B",
        "colab_type": "code",
        "colab": {}
      },
      "cell_type": "code",
      "source": [
        "def sigmoid(x=2):\n",
        "    y = 1/(1+math.exp(-x))\n",
        "    return y\n",
        "print(sigmoid)"
      ],
      "execution_count": 0,
      "outputs": []
    },
    {
      "metadata": {
        "id": "TIKVl7b1oW9C",
        "colab_type": "code",
        "colab": {}
      },
      "cell_type": "code",
      "source": [
        "def euclid(x,y):    \n",
        "    summ = 0\n",
        "    for i in range(0,len(x)):\n",
        "        t = (x[i]-y[i])**2\n",
        "        summ+=t\n",
        "    return math.sqrt(summ)\n",
        "\n",
        "print(euclid([0,1,0,1], [2,0,1,1]))\n",
        "print(euclid([0,1,0,1], [0,1,0,2]))\n",
        "        "
      ],
      "execution_count": 0,
      "outputs": []
    },
    {
      "metadata": {
        "id": "AAtCocFhoW9E",
        "colab_type": "code",
        "colab": {}
      },
      "cell_type": "code",
      "source": [
        "def sumAndProd(x,y):\n",
        "    res1 = []\n",
        "    res2 = []\n",
        "    for i in range(len(x)):\n",
        "        res1.append(x[i]+y[i])\n",
        "        res2.append(x[i]*y[i])\n",
        "    return res1, res2\n",
        "res = sumAndProd([1,2,3], range(0,3))\n",
        "print(res)\n"
      ],
      "execution_count": 0,
      "outputs": []
    },
    {
      "metadata": {
        "id": "DYfvleKcoW9F",
        "colab_type": "code",
        "colab": {}
      },
      "cell_type": "code",
      "source": [
        "res1, res2 = sumAndProd([1,2,3], range(0,3))\n",
        "print(res1)\n",
        "print(res2)"
      ],
      "execution_count": 0,
      "outputs": []
    },
    {
      "metadata": {
        "id": "EKx2NBGpoW9H",
        "colab_type": "code",
        "colab": {}
      },
      "cell_type": "code",
      "source": [
        "def sumAndProd(x,y):\n",
        "    for i in range(len(x)):\n",
        "        t1=x[i]+y[i]\n",
        "        t2 = x[i]*y[i]\n",
        "        x[i] = t1\n",
        "        y[i] = t2\n",
        "    return\n",
        "x = [1,2,3]\n",
        "y = [1,2,3]\n",
        "res = sumAndProd(x,y)\n",
        "print(res)\n",
        "print(x)\n",
        "print(y)\n",
        "print(sumAndProd)"
      ],
      "execution_count": 0,
      "outputs": []
    },
    {
      "metadata": {
        "id": "CbkRg5yKoW9J",
        "colab_type": "text"
      },
      "cell_type": "markdown",
      "source": [
        "## Области видимости: "
      ]
    },
    {
      "metadata": {
        "id": "WBbcGrYyoW9J",
        "colab_type": "code",
        "colab": {}
      },
      "cell_type": "code",
      "source": [
        "a = 10\n",
        "def add(x):\n",
        "    return x+a\n",
        "print(add(1))"
      ],
      "execution_count": 0,
      "outputs": []
    },
    {
      "metadata": {
        "id": "G-2UjbPHoW9L",
        "colab_type": "code",
        "colab": {}
      },
      "cell_type": "code",
      "source": [
        "a = 10\n",
        "def add(x):\n",
        "    a = 5\n",
        "    return x+a\n",
        "print(add(1))\n",
        "print(a)"
      ],
      "execution_count": 0,
      "outputs": []
    },
    {
      "metadata": {
        "id": "he92Sdl1oW9N",
        "colab_type": "code",
        "colab": {}
      },
      "cell_type": "code",
      "source": [
        "a = 10\n",
        "def addAdd(x):\n",
        "    a = 3\n",
        "    def add(x):        \n",
        "        return x+a    \n",
        "    res = add(x+a)\n",
        "    return res\n",
        "    \n",
        "print(addAdd(1))\n",
        "print(a)"
      ],
      "execution_count": 0,
      "outputs": []
    },
    {
      "metadata": {
        "id": "QI0bB-q8oW9O",
        "colab_type": "text"
      },
      "cell_type": "markdown",
      "source": [
        "### Порядок поиска переменной:\n",
        "1. Локальная область видимости (функция)\n",
        "2. Локальные области видимости объемлющих функци\n",
        "3. Глобальная область видимости (модуль)\n",
        "4. Встроенные имена"
      ]
    },
    {
      "metadata": {
        "id": "ugtItNAeoW9O",
        "colab_type": "code",
        "colab": {}
      },
      "cell_type": "code",
      "source": [
        "a = 10\n",
        "def f(x):\n",
        "    global a\n",
        "    a=x\n",
        "    return\n",
        "f(1)\n",
        "print(a)"
      ],
      "execution_count": 0,
      "outputs": []
    },
    {
      "metadata": {
        "id": "IbtJbyMDoW9Q",
        "colab_type": "text"
      },
      "cell_type": "markdown",
      "source": [
        "## Классы"
      ]
    },
    {
      "metadata": {
        "id": "jH2UgjyeoW9R",
        "colab_type": "code",
        "colab": {}
      },
      "cell_type": "code",
      "source": [
        "class Vehicle:\n",
        "    speed = 10\n",
        "    mass = 100\n",
        "\n",
        "v1 = Vehicle()\n",
        "v2 = Vehicle()\n",
        "print(v1)\n",
        "print(v1.speed)\n",
        "print(v2.speed)\n",
        "v1.color = 'red'\n",
        "v2.color = 'white'\n",
        "print(v1.color)\n",
        "print(v2.color)"
      ],
      "execution_count": 0,
      "outputs": []
    },
    {
      "metadata": {
        "id": "nr6aFOS0oW9T",
        "colab_type": "code",
        "colab": {}
      },
      "cell_type": "code",
      "source": [
        "class Vehicle:\n",
        "    speed = 10\n",
        "    mass = 100\n",
        "    def getEnergy(self):\n",
        "        return self.mass*self.speed**2/2\n",
        "v = Vehicle()\n",
        "print(v.getEnergy())\n",
        "v.speed = 20\n",
        "print(v.getEnergy())"
      ],
      "execution_count": 0,
      "outputs": []
    },
    {
      "metadata": {
        "id": "9MsgIs-aoW9U",
        "colab_type": "code",
        "colab": {}
      },
      "cell_type": "code",
      "source": [
        "class Vehicle:\n",
        "    def __init__(self, mass):\n",
        "        self.mass = mass\n",
        "    def setSpeed(self, speed):\n",
        "        self.speed = speed\n",
        "    def getEnergy(self):\n",
        "        return self.mass*self.speed**2/2\n",
        "v = Vehicle(100)\n",
        "v.setSpeed(20)\n",
        "print(v.getEnergy())"
      ],
      "execution_count": 0,
      "outputs": []
    },
    {
      "metadata": {
        "id": "gLVw77gOoW9W",
        "colab_type": "code",
        "colab": {}
      },
      "cell_type": "code",
      "source": [
        "class Vehicle:\n",
        "    def __init__(self, mass):\n",
        "        self.mass = mass\n",
        "    def setSpeed(self, speed):\n",
        "        self.speed = speed\n",
        "    def getEnergy(self):\n",
        "        return self.mass*self.speed**2/2\n",
        "    def isCrashed(self):\n",
        "        if self.getEnergy()>15000:\n",
        "            return True\n",
        "        else:\n",
        "            return False\n",
        "vehicles = []\n",
        "for i in range(0,10):\n",
        "    v = Vehicle(100)\n",
        "    speed = random.randint(10,20)\n",
        "    print(\"speed: \"+str(speed))\n",
        "    v.setSpeed(speed)\n",
        "    print(v.isCrashed())\n",
        "    vehicles.append(v1)"
      ],
      "execution_count": 0,
      "outputs": []
    },
    {
      "metadata": {
        "id": "AekC-2droW9X",
        "colab_type": "code",
        "colab": {}
      },
      "cell_type": "code",
      "source": [
        "class Vehicle:\n",
        "    def __init__(self, mass):\n",
        "        self.mass = mass\n",
        "    def setSpeed(self, speed):\n",
        "        self.speed = speed\n",
        "    def getEnergy(self):\n",
        "        return self.mass*self.speed**2/2\n",
        "    def isCrashed(self):\n",
        "        if self.getEnergy()>15000:\n",
        "            return True\n",
        "        else:\n",
        "            return False\n",
        "    def __str__(self):\n",
        "        if self.isCrashed():\n",
        "            return \"vehicle crashed, speed: \"+str(self.speed)\n",
        "        else:\n",
        "            return \"vehicle run, speed: \"+str(self.speed)\n",
        "vehicles = []\n",
        "for i in range(0,10):\n",
        "    v = Vehicle(100)\n",
        "    speed = random.randint(10,20)   \n",
        "    v.setSpeed(speed)\n",
        "    vehicles.append(v)\n",
        "for v in vehicles:\n",
        "    print(v)"
      ],
      "execution_count": 0,
      "outputs": []
    },
    {
      "metadata": {
        "collapsed": true,
        "id": "uCUtAEJDoW9Y",
        "colab_type": "code",
        "colab": {}
      },
      "cell_type": "code",
      "source": [
        "class Tank(Vehicle):\n",
        "    def __init__(self, mass, defencePower):\n",
        "        Vehicle.__init__(self, mass)\n",
        "        self.defencePower=defencePower\n",
        "    def isCrashed(self):\n",
        "        if self.getEnergy()>15000*self.defencePower:\n",
        "            return True\n",
        "        else:\n",
        "            return False\n",
        "    def __str__(self):\n",
        "        if self.isCrashed():\n",
        "            return \"tank crashed, speed: \"+str(self.speed)\n",
        "        else:\n",
        "            return \"tank run, speed: \"+str(self.speed)"
      ],
      "execution_count": 0,
      "outputs": []
    },
    {
      "metadata": {
        "id": "L5idHaxQoW9Z",
        "colab_type": "code",
        "colab": {}
      },
      "cell_type": "code",
      "source": [
        "vehicles = []\n",
        "for i in range(0,10):\n",
        "    v = Vehicle(100)\n",
        "    t = Tank(100,2)\n",
        "    speed = random.randint(10,20)   \n",
        "    v.setSpeed(speed)\n",
        "    t.setSpeed(speed)\n",
        "    vehicles.append(v)\n",
        "    vehicles.append(t)\n",
        "for v in vehicles:\n",
        "    print(v)"
      ],
      "execution_count": 0,
      "outputs": []
    },
    {
      "metadata": {
        "id": "IrtfcuxooW9b",
        "colab_type": "text"
      },
      "cell_type": "markdown",
      "source": [
        "### Как укоротить код? \n"
      ]
    },
    {
      "metadata": {
        "id": "Oi2QqWXIoW9b",
        "colab_type": "code",
        "colab": {}
      },
      "cell_type": "code",
      "source": [
        "class Vehicle:\n",
        "    def __init__(self, mass):\n",
        "        self.mass = mass\n",
        "        self.name='vehicle'\n",
        "    def setSpeed(self, speed):\n",
        "        self.speed = speed\n",
        "    def getEnergy(self):\n",
        "        return self.mass*self.speed**2/2\n",
        "    def isCrashed(self):\n",
        "        if self.getEnergy()>15000:\n",
        "            return True\n",
        "        else:\n",
        "            return False\n",
        "    def gas(self):\n",
        "        self.speed+=5\n",
        "    def __str__(self):\n",
        "        if self.isCrashed():\n",
        "            return self.name+\" crashed, speed: \"+str(self.speed)\n",
        "        else:\n",
        "            return self.name+\" run, speed: \"+str(self.speed)\n",
        "class Tank(Vehicle):\n",
        "    def __init__(self, mass, defencePower):\n",
        "        Vehicle.__init__(self, mass)\n",
        "        self.defencePower=defencePower\n",
        "        self.name='tank'\n",
        "    def gas(self):\n",
        "        self.speed+=1\n",
        "    def isCrashed(self):\n",
        "        if self.getEnergy()>15000*self.defencePower:\n",
        "            return True\n",
        "        else:\n",
        "            return False\n",
        "class Ferrari(Vehicle):\n",
        "    def __init__(self, mass):\n",
        "        Vehicle.__init__(self, mass)\n",
        "        self.name='ferrari'\n",
        "    def gas(self):\n",
        "        self.speed+=10\n",
        "vehicles = []\n",
        "for i in range(0,10):\n",
        "    v = Vehicle(100)\n",
        "    t = Tank(100,2)\n",
        "    f = Ferrari(100)\n",
        "    speed = random.randint(10,20)   \n",
        "    v.setSpeed(speed)\n",
        "    t.setSpeed(speed)\n",
        "    vehicles.append(v)\n",
        "    vehicles.append(t)\n",
        "for v in vehicles:\n",
        "    print(v)\n",
        "print(\"gas\")\n",
        "for v in vehicles:\n",
        "    v.gas()\n",
        "    print(v)"
      ],
      "execution_count": 0,
      "outputs": []
    },
    {
      "metadata": {
        "id": "w0XGXSoEoW9e",
        "colab_type": "text"
      },
      "cell_type": "markdown",
      "source": [
        "## Пакеты и модули"
      ]
    },
    {
      "metadata": {
        "id": "6nexPADqoje2",
        "colab_type": "code",
        "colab": {}
      },
      "cell_type": "code",
      "source": [
        "!mkdir vechiclesPackage"
      ],
      "execution_count": 0,
      "outputs": []
    },
    {
      "metadata": {
        "id": "kC3OxAtCoW9e",
        "colab_type": "code",
        "colab": {}
      },
      "cell_type": "code",
      "source": [
        "import random\n",
        "# import vechicles\n",
        "# import vechicles as vh\n",
        "# from vechicles import *\n",
        "# from vechicles import Vehicle, Tank, Ferrari\n",
        "from vechiclesPackage import vechicle, ferrari, tank"
      ],
      "execution_count": 0,
      "outputs": []
    },
    {
      "metadata": {
        "id": "-s0jPUEroW9g",
        "colab_type": "code",
        "colab": {}
      },
      "cell_type": "code",
      "source": [
        "vehicles = []\n",
        "for i in range(0,10):\n",
        "    v = vechicle.Vehicle(100)\n",
        "    t = tank.Tank(100,2)\n",
        "    f = ferrari.Ferrari(100)\n",
        "    speed = random.randint(10,20)   \n",
        "    v.setSpeed(speed)\n",
        "    t.setSpeed(speed)\n",
        "    vehicles.append(v)\n",
        "    vehicles.append(t)\n",
        "for v in vehicles:\n",
        "    print(v)\n",
        "print(\"gas\")\n",
        "for v in vehicles:\n",
        "    v.gas()\n",
        "    print(v)"
      ],
      "execution_count": 0,
      "outputs": []
    },
    {
      "metadata": {
        "collapsed": true,
        "id": "G4gZn4yooW9h",
        "colab_type": "text"
      },
      "cell_type": "markdown",
      "source": [
        "## Исключения"
      ]
    },
    {
      "metadata": {
        "id": "NPSf1NB5oW9i",
        "colab_type": "code",
        "colab": {}
      },
      "cell_type": "code",
      "source": [
        "def sigmoid(x=2):\n",
        "    y = 1/(1+math.exp(-x))\n",
        "    return y\n",
        "print(sigmoid('one'))"
      ],
      "execution_count": 0,
      "outputs": []
    },
    {
      "metadata": {
        "id": "zRKG7qELoW9k",
        "colab_type": "code",
        "colab": {}
      },
      "cell_type": "code",
      "source": [
        "def sigmoid(x=2):\n",
        "    try:\n",
        "        y = 1/(1+math.exp(-x))  \n",
        "    except Exception as e:\n",
        "        print(e)\n",
        "        y=-1\n",
        "    return y\n",
        "print(sigmoid('one'))"
      ],
      "execution_count": 0,
      "outputs": []
    },
    {
      "metadata": {
        "id": "2xO2pCnFoW9l",
        "colab_type": "code",
        "colab": {}
      },
      "cell_type": "code",
      "source": [
        "def sigmoid(x=2):\n",
        "    if isinstance(x,float) or isinstance(x,int):\n",
        "        y = 1/(1+math.exp(-x))\n",
        "    else:\n",
        "        y=0\n",
        "    return y\n",
        "print(sigmoid(1))"
      ],
      "execution_count": 0,
      "outputs": []
    },
    {
      "metadata": {
        "id": "PvAwKjHLoW9n",
        "colab_type": "code",
        "colab": {}
      },
      "cell_type": "code",
      "source": [
        "def sigmoid(x=2):\n",
        "    if isinstance(x,float) or isinstance(x,int):\n",
        "        y = 1/(1+math.exp(-x))\n",
        "    else:\n",
        "        raise(Exception('x must be float or int'))\n",
        "    return y\n",
        "print(sigmoid('one'))"
      ],
      "execution_count": 0,
      "outputs": []
    },
    {
      "metadata": {
        "id": "TXAz8yvSoW9p",
        "colab_type": "text"
      },
      "cell_type": "markdown",
      "source": [
        "## Генераторы"
      ]
    },
    {
      "metadata": {
        "id": "XfDLBtFfoW9p",
        "colab_type": "text"
      },
      "cell_type": "markdown",
      "source": [
        "### List comprehension. Генераторы списков"
      ]
    },
    {
      "metadata": {
        "id": "D21W6V2NoW9p",
        "colab_type": "code",
        "colab": {}
      },
      "cell_type": "code",
      "source": [
        "listComprehension = [x*2 for x in range(0,10)]\n",
        "print(listComprehension)"
      ],
      "execution_count": 0,
      "outputs": []
    },
    {
      "metadata": {
        "id": "hIqmGXT7oW9r",
        "colab_type": "code",
        "colab": {}
      },
      "cell_type": "code",
      "source": [
        "print(10//3)\n",
        "print(10%3)"
      ],
      "execution_count": 0,
      "outputs": []
    },
    {
      "metadata": {
        "id": "MKSkYSfhoW9u",
        "colab_type": "code",
        "colab": {}
      },
      "cell_type": "code",
      "source": [
        "listComprehension = [x*2 for x in range(0,10) if x%3==0]\n",
        "print(listComprehension)"
      ],
      "execution_count": 0,
      "outputs": []
    },
    {
      "metadata": {
        "id": "Ej9YuS1zoW9v",
        "colab_type": "text"
      },
      "cell_type": "markdown",
      "source": [
        "### Функции - генераторы"
      ]
    },
    {
      "metadata": {
        "id": "y6NVmUgxoW9v",
        "colab_type": "code",
        "colab": {}
      },
      "cell_type": "code",
      "source": [
        "def generator():\n",
        "    i=0\n",
        "    while True:\n",
        "        i = i + 1\n",
        "        res = i**2\n",
        "        yield res\n",
        "g = generator()\n",
        "for i in range(0,5):\n",
        "    print(next(g))"
      ],
      "execution_count": 0,
      "outputs": []
    },
    {
      "metadata": {
        "id": "RxYCuCAJoW9y",
        "colab_type": "code",
        "colab": {}
      },
      "cell_type": "code",
      "source": [
        "def generator():\n",
        "    while True:\n",
        "        r1 = random.randint(0,10)\n",
        "        r2 = random.randint(0,10)        \n",
        "        yield r1, r2\n",
        "g = generator()\n",
        "for i in range(0,5):\n",
        "    print(next(g))"
      ],
      "execution_count": 0,
      "outputs": []
    },
    {
      "metadata": {
        "id": "IA0kBn-MoW9z",
        "colab_type": "text"
      },
      "cell_type": "markdown",
      "source": [
        "## Файлы"
      ]
    },
    {
      "metadata": {
        "id": "zOgfWqKRoW90",
        "colab_type": "code",
        "colab": {}
      },
      "cell_type": "code",
      "source": [
        "f = open('techno.txt','r')\n",
        "lines = f.readlines()\n",
        "f.close()\n",
        "print(lines[0])\n",
        "print(lines[4])\n",
        "\n",
        "\n",
        "\n"
      ],
      "execution_count": 0,
      "outputs": []
    },
    {
      "metadata": {
        "id": "I6oHDUOkoW93",
        "colab_type": "code",
        "colab": {}
      },
      "cell_type": "code",
      "source": [
        "#менеджер контекста\n",
        "with open('techno.txt','r') as f:\n",
        "    text = f.read()\n",
        "print(text)"
      ],
      "execution_count": 0,
      "outputs": []
    },
    {
      "metadata": {
        "collapsed": true,
        "id": "uYbpFngmoW95",
        "colab_type": "code",
        "colab": {}
      },
      "cell_type": "code",
      "source": [
        "f = open('result1.txt', 'w')\n",
        "for i in range(0,10):\n",
        "    f.write(str(random.randint(0,10))+'\\n')"
      ],
      "execution_count": 0,
      "outputs": []
    },
    {
      "metadata": {
        "collapsed": true,
        "id": "QSmUu1LJoW98",
        "colab_type": "code",
        "colab": {}
      },
      "cell_type": "code",
      "source": [
        "f = open('result1.txt', 'w')\n",
        "for i in range(0,10):\n",
        "    f.write(str(random.randint(0,10))+'\\n')\n",
        "f.close()"
      ],
      "execution_count": 0,
      "outputs": []
    },
    {
      "metadata": {
        "collapsed": true,
        "id": "N0GuGSzOoW-J",
        "colab_type": "code",
        "colab": {}
      },
      "cell_type": "code",
      "source": [
        "with open('result2.txt', 'w') as f:\n",
        "    for i in range(0,10):\n",
        "        f.write(str(random.randint(0,10))+'\\n')"
      ],
      "execution_count": 0,
      "outputs": []
    },
    {
      "metadata": {
        "id": "NFunbHGuoW-L",
        "colab_type": "text"
      },
      "cell_type": "markdown",
      "source": [
        "## Обход файлов"
      ]
    },
    {
      "metadata": {
        "id": "2eSv15y7oW-M",
        "colab_type": "code",
        "colab": {}
      },
      "cell_type": "code",
      "source": [
        "import glob\n",
        "path = 'E:/Course/1_python/images/'\n",
        "images = glob.glob(path + \"*.jpg\")\n",
        "for i in range(10):\n",
        "    print(images[i])"
      ],
      "execution_count": 0,
      "outputs": []
    },
    {
      "metadata": {
        "collapsed": true,
        "id": "2Oq56kldoW-O",
        "colab_type": "code",
        "colab": {}
      },
      "cell_type": "code",
      "source": [
        "import os\n",
        "resPath = 'result'\n",
        "if not os.path.exists(resPath):\n",
        "    os.makedirs(resPath)"
      ],
      "execution_count": 0,
      "outputs": []
    },
    {
      "metadata": {
        "id": "9Nt_aiPfoW-Q",
        "colab_type": "code",
        "colab": {}
      },
      "cell_type": "code",
      "source": [
        "folder = os.listdir(path)\n",
        "print(folder)"
      ],
      "execution_count": 0,
      "outputs": []
    },
    {
      "metadata": {
        "id": "LqOgdsgdoW-R",
        "colab_type": "code",
        "colab": {}
      },
      "cell_type": "code",
      "source": [
        "print(len(folder))\n",
        "for index, f in enumerate(folder):\n",
        "    fullPath = path+f \n",
        "    if index%3==0:\n",
        "        print(fullPath)"
      ],
      "execution_count": 0,
      "outputs": []
    },
    {
      "metadata": {
        "id": "fpk_2HM2oW-T",
        "colab_type": "text"
      },
      "cell_type": "markdown",
      "source": [
        "## Еще про рандом"
      ]
    },
    {
      "metadata": {
        "id": "EgdrMgYRoW-U",
        "colab_type": "code",
        "colab": {}
      },
      "cell_type": "code",
      "source": [
        "random.seed(41)\n",
        "data = ['a', 'b', 'c', 'd', 'e', 'f']\n",
        "print(data)\n",
        "random.shuffle(data)\n",
        "print(data)\n",
        "random.shuffle(data)\n",
        "print(data)\n",
        "print(random.randrange(0, 100, 5))"
      ],
      "execution_count": 0,
      "outputs": []
    },
    {
      "metadata": {
        "id": "hvO0cS1AoW-V",
        "colab_type": "text"
      },
      "cell_type": "markdown",
      "source": [
        "## Еще про аргументы"
      ]
    },
    {
      "metadata": {
        "id": "x3vln5ryoW-V",
        "colab_type": "code",
        "colab": {}
      },
      "cell_type": "code",
      "source": [
        "def func(a,b,c):\n",
        "    print(a,b,c)\n",
        "func(1,2,3)"
      ],
      "execution_count": 0,
      "outputs": []
    },
    {
      "metadata": {
        "id": "p2_K8_NwoW-X",
        "colab_type": "code",
        "colab": {}
      },
      "cell_type": "code",
      "source": [
        "def func(a,b='two',c='tree'):\n",
        "    print(a,b,c)\n",
        "func(1)"
      ],
      "execution_count": 0,
      "outputs": []
    },
    {
      "metadata": {
        "id": "A9NgOzs8oW-Y",
        "colab_type": "code",
        "colab": {}
      },
      "cell_type": "code",
      "source": [
        "def func(a,b,c):\n",
        "    print(a,b,c)\n",
        "func(b=2, c=3, a='one')"
      ],
      "execution_count": 0,
      "outputs": []
    },
    {
      "metadata": {
        "id": "JduCtTmRoW-Z",
        "colab_type": "code",
        "colab": {}
      },
      "cell_type": "code",
      "source": [
        "def func(*args):\n",
        "    print(args)\n",
        "    a = args[0]\n",
        "    b = args[1]\n",
        "    c = args[2]\n",
        "    print(a,b,c)\n",
        "func('one', 2, 3)"
      ],
      "execution_count": 0,
      "outputs": []
    },
    {
      "metadata": {
        "id": "mfs1ajraoW-b",
        "colab_type": "code",
        "colab": {}
      },
      "cell_type": "code",
      "source": [
        "def func(**kwargs):\n",
        "    print(kwargs)\n",
        "    a = kwargs['a']\n",
        "    b = kwargs['b']\n",
        "    c = kwargs['c']\n",
        "    print(a,b,c)\n",
        "func(b=2, c=3, a='one')"
      ],
      "execution_count": 0,
      "outputs": []
    },
    {
      "metadata": {
        "id": "Tw8TUFntoW-c",
        "colab_type": "code",
        "colab": {}
      },
      "cell_type": "code",
      "source": [
        "def func(**kwargs):\n",
        "    print(kwargs)\n",
        "    for key, value in kwargs.items():\n",
        "        print(\"{} is {}\".format(key, value))\n",
        "func(b=2, c=3, a='one')"
      ],
      "execution_count": 0,
      "outputs": []
    },
    {
      "metadata": {
        "id": "1ofANe_-pE5c",
        "colab_type": "text"
      },
      "cell_type": "markdown",
      "source": [
        "## Задание"
      ]
    },
    {
      "metadata": {
        "collapsed": true,
        "id": "hVzby8HCoW-e",
        "colab_type": "text"
      },
      "cell_type": "markdown",
      "source": [
        "Задание light: \n",
        "Взять длинный текстовый файл, посчитать статистику: средняя длинна предложения, средняя длинна слова, частота буквы: количество буквы ‘a’ ‘b’ ‘c’ и т.д., деленное на количество слов. Записать результат в файл.\n",
        "\n",
        "Задание pro: \n",
        "Разбить текст на предложения и использовать массив предложений для приема кросс-валидация. Разбить на обучающую и тестовую k раз случайным образом и вывести статистику для каждого k. Сильно ли отличается статистика между итерациями кросс-валидации (средние и std для каждого параметра между обучающей и тестовой выборкой и между обучаю выборками для итераций)? А для короткого файла? \n",
        "Кросс-валидацию можно сделать генератором, возвращающим обучающую и тестовую выборки. Можно сделать класс в отдельном модуле.\n",
        "https://en.wikipedia.org/wiki/Cross-validation_(statistics)#/media/File:K-fold_cross_validation_EN.jpg\n"
      ]
    },
    {
      "metadata": {
        "id": "V1kQacHaoW-g",
        "colab_type": "code",
        "colab": {}
      },
      "cell_type": "code",
      "source": [
        "import numpy as np\n",
        "print (np.mean([0,12,3,4]))\n",
        "print (np.std([0,12,3,4]))"
      ],
      "execution_count": 0,
      "outputs": []
    }
  ]
}